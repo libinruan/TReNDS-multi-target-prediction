{
 "cells": [
  {
   "cell_type": "markdown",
   "metadata": {},
   "source": [
    "#"
   ]
  },
  {
   "cell_type": "code",
   "execution_count": null,
   "metadata": {},
   "outputs": [],
   "source": [
    "import pandas as pd\n",
    "import numpy as np"
   ]
  },
  {
   "cell_type": "code",
   "execution_count": 14,
   "metadata": {},
   "outputs": [],
   "source": [
    "# interaction terms of loading and their feature names\n",
    "from sklearn.preprocessing import PolynomialFeatures\n",
    "from itertools import combinations\n",
    "import functools\n",
    "import operator"
   ]
  },
  {
   "cell_type": "code",
   "execution_count": 1,
   "metadata": {},
   "outputs": [],
   "source": [
    "from scipy.stats import ks_2samp\n",
    "import lightgbm as lgb\n",
    "from sklearn.model_selection import StratifiedKFold\n",
    "from sklearn.metrics import f1_score\n",
    "import matplotlib.pyplot as plt\n",
    "import seaborn as sns\n",
    "import pickle"
   ]
  },
  {
   "cell_type": "code",
   "execution_count": 2,
   "metadata": {},
   "outputs": [],
   "source": [
    "# IPython\n",
    "pd.set_option('display.max_columns', None)\n",
    "pd.set_option('display.expand_frame_repr', False)\n",
    "pd.set_option('max_colwidth', None)"
   ]
  },
  {
   "cell_type": "code",
   "execution_count": 3,
   "metadata": {},
   "outputs": [],
   "source": [
    "PATH = r\"G:\\kaggleData\\TReNDS\"\n",
    "fnc = pd.read_csv(f'{PATH}/fnc.csv').sort_values(by=['Id'])\n",
    "loading = pd.read_csv(f'{PATH}/loading.csv').sort_values(by=['Id'])\n",
    "train_scores = pd.read_csv(f'{PATH}/train_scores.csv').sort_values(by=['Id'])\n",
    "reveal_id_site2 = pd.read_csv(f'{PATH}/reveal_ID_site2.csv')"
   ]
  },
  {
   "cell_type": "code",
   "execution_count": 7,
   "metadata": {},
   "outputs": [],
   "source": [
    "# get attributes\n",
    "fnc_features = fnc.columns.tolist()\n",
    "fnc_features.remove('Id')\n",
    "loading_features = loading.columns.tolist()\n",
    "loading_features.remove('Id')\n",
    "target_features = train_scores.columns.tolist()\n",
    "target_features.remove('Id')"
   ]
  },
  {
   "cell_type": "code",
   "execution_count": 10,
   "metadata": {},
   "outputs": [
    {
     "name": "stdout",
     "output_type": "stream",
     "text": [
      "fnc             : shape (11754, 1379)\n",
      "loading         : shape (11754, 27)\n",
      "train_scores    : shape (5877, 6)\n",
      "reveal_id_site2 : shape (510, 1)\n"
     ]
    }
   ],
   "source": [
    "# dimension of data frames\n",
    "dfs = [fnc, loading, train_scores, reveal_id_site2]\n",
    "nms = ['fnc', 'loading', 'train_scores', 'reveal_id_site2']\n",
    "for (df, nm) in zip(dfs, nms):\n",
    "    df.name = nm\n",
    "    print(f'{nm:16s}: shape {df.shape}')"
   ]
  },
  {
   "cell_type": "code",
   "execution_count": 9,
   "metadata": {
    "lines_to_next_cell": 2
   },
   "outputs": [
    {
     "name": "stdout",
     "output_type": "stream",
     "text": [
      "fnc_features:     len 1378\n",
      "loading_features: len 26\n",
      "target_features:  len 5\n"
     ]
    }
   ],
   "source": [
    "#\n",
    "print(f'fnc_features:     len {len(fnc_features)}')\n",
    "print(f'loading_features: len {len(loading_features)}')\n",
    "print(f'target_features:  len {len(target_features)}')"
   ]
  },
  {
   "cell_type": "code",
   "execution_count": 11,
   "metadata": {
    "lines_to_next_cell": 1
   },
   "outputs": [],
   "source": [
    "# iteraction terms' names\n",
    "def convertTuple(tup):\n",
    "    str = functools.reduce(operator.add, tup)\n",
    "    return str"
   ]
  },
  {
   "cell_type": "code",
   "execution_count": 15,
   "metadata": {},
   "outputs": [],
   "source": [
    "polynomial_features = list(map(convertTuple, combinations(loading_features, r=2)))"
   ]
  },
  {
   "cell_type": "code",
   "execution_count": 16,
   "metadata": {},
   "outputs": [],
   "source": [
    "# original loading features appended with interaction terms\n",
    "poly = PolynomialFeatures(degree=2, interaction_only=True, include_bias=False)\n",
    "temp = poly.fit_transform(loading.drop(['Id'], axis=1).values)\n",
    "loading2_features = loading_features + polynomial_features\n",
    "loading2 = pd.concat([loading[['Id']], pd.DataFrame(temp, columns=loading2_features)], axis=1)"
   ]
  },
  {
   "cell_type": "code",
   "execution_count": 17,
   "metadata": {},
   "outputs": [
    {
     "data": {
      "text/plain": [
       "False"
      ]
     },
     "execution_count": 17,
     "metadata": {},
     "output_type": "execute_result"
    }
   ],
   "source": [
    "#\n",
    "full_features = fnc_features + loading2_features\n",
    "train_scores['is_train'] = True\n",
    "full_data = pd.merge(fnc, loading2, on='Id').merge(train_scores, how='left', on='Id')\n",
    "train_df = full_data.loc[full_data['is_train']==True, :]\n",
    "test_df = full_data.loc[~(full_data['is_train']==True), :]\n",
    "train_df.equals(test_df)"
   ]
  },
  {
   "cell_type": "code",
   "execution_count": null,
   "metadata": {
    "lines_to_next_cell": 2
   },
   "outputs": [],
   "source": []
  },
  {
   "cell_type": "code",
   "execution_count": null,
   "metadata": {},
   "outputs": [],
   "source": []
  },
  {
   "cell_type": "code",
   "execution_count": null,
   "metadata": {
    "lines_to_next_cell": 2
   },
   "outputs": [],
   "source": []
  }
 ],
 "metadata": {
  "jupytext": {
   "formats": "ipynb,py:light"
  },
  "kernelspec": {
   "display_name": "Python 3.7.7 64-bit ('tensorflow': conda)",
   "language": "python",
   "name": "python37764bittensorflowconda80fc7f00de1049449f5177d6f3ffe3e9"
  },
  "language_info": {
   "codemirror_mode": {
    "name": "ipython",
    "version": 3
   },
   "file_extension": ".py",
   "mimetype": "text/x-python",
   "name": "python",
   "nbconvert_exporter": "python",
   "pygments_lexer": "ipython3",
   "version": "3.7.7"
  }
 },
 "nbformat": 4,
 "nbformat_minor": 4
}
